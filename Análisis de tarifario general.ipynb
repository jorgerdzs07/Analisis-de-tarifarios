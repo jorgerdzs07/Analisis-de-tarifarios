{
 "cells": [
  {
   "cell_type": "markdown",
   "metadata": {},
   "source": [
    "# Analisis de tarifario general."
   ]
  },
  {
   "cell_type": "code",
   "execution_count": 29,
   "metadata": {},
   "outputs": [
    {
     "name": "stdout",
     "output_type": "stream",
     "text": [
      "        Carrier   Servicio    Origen    Destino  Full x Cont  Sencillo  \\\n",
      "0  T. Mundiales  Roundtrip  Altamira       CDMX        23500     36000   \n",
      "1  T. Mundiales  Roundtrip  Altamira     Puebla        24000     26000   \n",
      "2  T. Mundiales  Roundtrip  Altamira  Monterrey        60000     70000   \n",
      "\n",
      "   Horas libres                                            Remarks  \\\n",
      "0             8  Piastas incluidas,No incluye manniobras en pue...   \n",
      "1             8  Piastas incluidas,No incluye manniobras en pue...   \n",
      "2             8  Piastas incluidas,No incluye manniobras en pue...   \n",
      "\n",
      "            Vigencia  \n",
      "0  31-diciembre-2020  \n",
      "1  31-diciembre-2020  \n",
      "2  31-diciembre-2020  \n"
     ]
    }
   ],
   "source": [
    "import pandas as pd\n",
    "import os\n",
    "\n",
    "df=pd.read_csv('BD/T Mundiales.csv')\n",
    "\n",
    "print(df.head(3))\n"
   ]
  },
  {
   "cell_type": "code",
   "execution_count": 36,
   "metadata": {},
   "outputs": [],
   "source": [
    "files = [file for file in os.listdir('BD/')]\n",
    "tarifario_general= pd.DataFrame()\n",
    "for file in files:\n",
    "    df=pd.read_csv('BD/'+file)\n",
    "    tarifario_general= pd.concat([tarifario_general, df])\n",
    "\n",
    "tarifario_general.to_csv(\"BD/tarifario_general.csv\", index=False )"
   ]
  },
  {
   "cell_type": "code",
   "execution_count": 38,
   "metadata": {},
   "outputs": [
    {
     "data": {
      "text/html": [
       "<div>\n",
       "<style scoped>\n",
       "    .dataframe tbody tr th:only-of-type {\n",
       "        vertical-align: middle;\n",
       "    }\n",
       "\n",
       "    .dataframe tbody tr th {\n",
       "        vertical-align: top;\n",
       "    }\n",
       "\n",
       "    .dataframe thead th {\n",
       "        text-align: right;\n",
       "    }\n",
       "</style>\n",
       "<table border=\"1\" class=\"dataframe\">\n",
       "  <thead>\n",
       "    <tr style=\"text-align: right;\">\n",
       "      <th></th>\n",
       "      <th>Carrier</th>\n",
       "      <th>Servicio</th>\n",
       "      <th>Origen</th>\n",
       "      <th>Destino</th>\n",
       "      <th>Full x Cont</th>\n",
       "      <th>Sencillo</th>\n",
       "      <th>Horas libres</th>\n",
       "      <th>Remarks</th>\n",
       "      <th>Vigencia</th>\n",
       "      <th>Unnamed: 0</th>\n",
       "    </tr>\n",
       "  </thead>\n",
       "  <tbody>\n",
       "    <tr>\n",
       "      <th>0</th>\n",
       "      <td>CGC</td>\n",
       "      <td>Roundtrip</td>\n",
       "      <td>Manzanillo</td>\n",
       "      <td>CDMX</td>\n",
       "      <td>28000.0</td>\n",
       "      <td>36000.0</td>\n",
       "      <td>8.0</td>\n",
       "      <td>Piastas incluidas,No incluye manniobras en pue...</td>\n",
       "      <td>31-diciembre-2020</td>\n",
       "      <td>NaN</td>\n",
       "    </tr>\n",
       "    <tr>\n",
       "      <th>1</th>\n",
       "      <td>CGC</td>\n",
       "      <td>Roundtrip</td>\n",
       "      <td>Manzanillo</td>\n",
       "      <td>Puebla</td>\n",
       "      <td>35000.0</td>\n",
       "      <td>20000.0</td>\n",
       "      <td>8.0</td>\n",
       "      <td>Piastas incluidas,No incluye manniobras en pue...</td>\n",
       "      <td>31-diciembre-2020</td>\n",
       "      <td>NaN</td>\n",
       "    </tr>\n",
       "    <tr>\n",
       "      <th>2</th>\n",
       "      <td>CGC</td>\n",
       "      <td>Roundtrip</td>\n",
       "      <td>Manzanillo</td>\n",
       "      <td>Monterrey</td>\n",
       "      <td>40000.0</td>\n",
       "      <td>35000.0</td>\n",
       "      <td>8.0</td>\n",
       "      <td>Piastas incluidas,No incluye manniobras en pue...</td>\n",
       "      <td>31-diciembre-2020</td>\n",
       "      <td>NaN</td>\n",
       "    </tr>\n",
       "    <tr>\n",
       "      <th>3</th>\n",
       "      <td>CGC</td>\n",
       "      <td>Roundtrip</td>\n",
       "      <td>Manzanillo</td>\n",
       "      <td>Guadalajara</td>\n",
       "      <td>13000.0</td>\n",
       "      <td>18000.0</td>\n",
       "      <td>8.0</td>\n",
       "      <td>Piastas incluidas,No incluye manniobras en pue...</td>\n",
       "      <td>31-diciembre-2020</td>\n",
       "      <td>NaN</td>\n",
       "    </tr>\n",
       "    <tr>\n",
       "      <th>4</th>\n",
       "      <td>CGC</td>\n",
       "      <td>Roundtrip</td>\n",
       "      <td>Manzanillo</td>\n",
       "      <td>Queretaro</td>\n",
       "      <td>21000.0</td>\n",
       "      <td>32000.0</td>\n",
       "      <td>8.0</td>\n",
       "      <td>Piastas incluidas,No incluye manniobras en pue...</td>\n",
       "      <td>31-diciembre-2020</td>\n",
       "      <td>NaN</td>\n",
       "    </tr>\n",
       "  </tbody>\n",
       "</table>\n",
       "</div>"
      ],
      "text/plain": [
       "  Carrier   Servicio      Origen      Destino  Full x Cont  Sencillo  \\\n",
       "0     CGC  Roundtrip  Manzanillo         CDMX      28000.0   36000.0   \n",
       "1     CGC  Roundtrip  Manzanillo       Puebla      35000.0   20000.0   \n",
       "2     CGC  Roundtrip  Manzanillo    Monterrey      40000.0   35000.0   \n",
       "3     CGC  Roundtrip  Manzanillo  Guadalajara      13000.0   18000.0   \n",
       "4     CGC  Roundtrip  Manzanillo    Queretaro      21000.0   32000.0   \n",
       "\n",
       "   Horas libres                                            Remarks  \\\n",
       "0           8.0  Piastas incluidas,No incluye manniobras en pue...   \n",
       "1           8.0  Piastas incluidas,No incluye manniobras en pue...   \n",
       "2           8.0  Piastas incluidas,No incluye manniobras en pue...   \n",
       "3           8.0  Piastas incluidas,No incluye manniobras en pue...   \n",
       "4           8.0  Piastas incluidas,No incluye manniobras en pue...   \n",
       "\n",
       "            Vigencia  Unnamed: 0  \n",
       "0  31-diciembre-2020         NaN  \n",
       "1  31-diciembre-2020         NaN  \n",
       "2  31-diciembre-2020         NaN  \n",
       "3  31-diciembre-2020         NaN  \n",
       "4  31-diciembre-2020         NaN  "
      ]
     },
     "execution_count": 38,
     "metadata": {},
     "output_type": "execute_result"
    }
   ],
   "source": [
    "tg= pd.read_csv(\"BD/tarifario_general.csv\")\n",
    "tg.head()"
   ]
  },
  {
   "cell_type": "code",
   "execution_count": null,
   "metadata": {},
   "outputs": [],
   "source": []
  }
 ],
 "metadata": {
  "kernelspec": {
   "display_name": "Python 3",
   "language": "python",
   "name": "python3"
  },
  "language_info": {
   "codemirror_mode": {
    "name": "ipython",
    "version": 3
   },
   "file_extension": ".py",
   "mimetype": "text/x-python",
   "name": "python",
   "nbconvert_exporter": "python",
   "pygments_lexer": "ipython3",
   "version": "3.8.3"
  }
 },
 "nbformat": 4,
 "nbformat_minor": 4
}
